{
 "cells": [
  {
   "cell_type": "markdown",
   "metadata": {
    "uuid": "879f41c5-93c6-4a2f-8b47-cea8100dd179"
   },
   "source": [
    "# HEART DISEASE PREDICTION ( Part-2)"
   ]
  },
  {
   "cell_type": "code",
   "execution_count": 1,
   "metadata": {
    "uuid": "ec2e3aba-912b-49f2-a275-3f7a2be8bfc2"
   },
   "outputs": [],
   "source": [
    "#importing libraries\n",
    "import os\n",
    "import numpy as np\n",
    "import pandas as pd\n",
    "from keras.layers import Dense\n",
    "import matplotlib.pyplot as plt\n",
    "import tensorflow as tf\n",
    "from tensorflow.python.keras.models import Sequential\n",
    "from tensorflow.python.keras.layers import Dense\n",
    "from tensorflow.python.keras.optimizers import Adam\n",
    "from sklearn.model_selection import train_test_split\n",
    "from sklearn.metrics import classification_report, accuracy_score\n"
   ]
  },
  {
   "cell_type": "code",
   "execution_count": 3,
   "metadata": {
    "scrolled": true,
    "uuid": "98a402ca-8543-42de-8f89-88b922542550"
   },
   "outputs": [
    {
     "data": {
      "text/html": [
       "<div>\n",
       "<style scoped>\n",
       "    .dataframe tbody tr th:only-of-type {\n",
       "        vertical-align: middle;\n",
       "    }\n",
       "\n",
       "    .dataframe tbody tr th {\n",
       "        vertical-align: top;\n",
       "    }\n",
       "\n",
       "    .dataframe thead th {\n",
       "        text-align: right;\n",
       "    }\n",
       "</style>\n",
       "<table border=\"1\" class=\"dataframe\">\n",
       "  <thead>\n",
       "    <tr style=\"text-align: right;\">\n",
       "      <th></th>\n",
       "      <th>age</th>\n",
       "      <th>sex</th>\n",
       "      <th>cp</th>\n",
       "      <th>trestbps</th>\n",
       "      <th>chol</th>\n",
       "      <th>fbs</th>\n",
       "      <th>restecg</th>\n",
       "      <th>thalach</th>\n",
       "      <th>exang</th>\n",
       "      <th>oldpeak</th>\n",
       "      <th>slope</th>\n",
       "      <th>ca</th>\n",
       "      <th>thal</th>\n",
       "      <th>target</th>\n",
       "    </tr>\n",
       "  </thead>\n",
       "  <tbody>\n",
       "    <tr>\n",
       "      <th>0</th>\n",
       "      <td>63</td>\n",
       "      <td>1</td>\n",
       "      <td>3</td>\n",
       "      <td>145</td>\n",
       "      <td>233</td>\n",
       "      <td>1</td>\n",
       "      <td>0</td>\n",
       "      <td>150</td>\n",
       "      <td>0</td>\n",
       "      <td>2.3</td>\n",
       "      <td>0</td>\n",
       "      <td>0</td>\n",
       "      <td>1</td>\n",
       "      <td>1</td>\n",
       "    </tr>\n",
       "    <tr>\n",
       "      <th>1</th>\n",
       "      <td>37</td>\n",
       "      <td>1</td>\n",
       "      <td>2</td>\n",
       "      <td>130</td>\n",
       "      <td>250</td>\n",
       "      <td>0</td>\n",
       "      <td>1</td>\n",
       "      <td>187</td>\n",
       "      <td>0</td>\n",
       "      <td>3.5</td>\n",
       "      <td>0</td>\n",
       "      <td>0</td>\n",
       "      <td>2</td>\n",
       "      <td>1</td>\n",
       "    </tr>\n",
       "    <tr>\n",
       "      <th>2</th>\n",
       "      <td>41</td>\n",
       "      <td>0</td>\n",
       "      <td>1</td>\n",
       "      <td>130</td>\n",
       "      <td>204</td>\n",
       "      <td>0</td>\n",
       "      <td>0</td>\n",
       "      <td>172</td>\n",
       "      <td>0</td>\n",
       "      <td>1.4</td>\n",
       "      <td>2</td>\n",
       "      <td>0</td>\n",
       "      <td>2</td>\n",
       "      <td>1</td>\n",
       "    </tr>\n",
       "    <tr>\n",
       "      <th>3</th>\n",
       "      <td>56</td>\n",
       "      <td>1</td>\n",
       "      <td>1</td>\n",
       "      <td>120</td>\n",
       "      <td>236</td>\n",
       "      <td>0</td>\n",
       "      <td>1</td>\n",
       "      <td>178</td>\n",
       "      <td>0</td>\n",
       "      <td>0.8</td>\n",
       "      <td>2</td>\n",
       "      <td>0</td>\n",
       "      <td>2</td>\n",
       "      <td>1</td>\n",
       "    </tr>\n",
       "    <tr>\n",
       "      <th>4</th>\n",
       "      <td>57</td>\n",
       "      <td>0</td>\n",
       "      <td>0</td>\n",
       "      <td>120</td>\n",
       "      <td>354</td>\n",
       "      <td>0</td>\n",
       "      <td>1</td>\n",
       "      <td>163</td>\n",
       "      <td>1</td>\n",
       "      <td>0.6</td>\n",
       "      <td>2</td>\n",
       "      <td>0</td>\n",
       "      <td>2</td>\n",
       "      <td>1</td>\n",
       "    </tr>\n",
       "  </tbody>\n",
       "</table>\n",
       "</div>"
      ],
      "text/plain": [
       "   age  sex  cp  trestbps  chol  fbs  restecg  thalach  exang  oldpeak  slope  \\\n",
       "0   63    1   3       145   233    1        0      150      0      2.3      0   \n",
       "1   37    1   2       130   250    0        1      187      0      3.5      0   \n",
       "2   41    0   1       130   204    0        0      172      0      1.4      2   \n",
       "3   56    1   1       120   236    0        1      178      0      0.8      2   \n",
       "4   57    0   0       120   354    0        1      163      1      0.6      2   \n",
       "\n",
       "   ca  thal  target  \n",
       "0   0     1       1  \n",
       "1   0     2       1  \n",
       "2   0     2       1  \n",
       "3   0     2       1  \n",
       "4   0     2       1  "
      ]
     },
     "execution_count": 3,
     "metadata": {},
     "output_type": "execute_result"
    }
   ],
   "source": [
    "# Load the dataset, and view couple of the first rows.\n",
    "data = pd.read_csv(\"heart.csv\")\n",
    "data.head()\n"
   ]
  },
  {
   "cell_type": "code",
   "execution_count": null,
   "metadata": {
    "uuid": "5a25dd3e-368b-4839-9cae-a20a0f13f787"
   },
   "outputs": [],
   "source": [
    "#DATA EXPLORATION"
   ]
  },
  {
   "cell_type": "code",
   "execution_count": 4,
   "metadata": {
    "uuid": "1f685c13-6d3f-4ecf-bce4-057364ade1a2"
   },
   "outputs": [
    {
     "data": {
      "text/plain": [
       "<matplotlib.axes._subplots.AxesSubplot at 0x1cb6dd51780>"
      ]
     },
     "execution_count": 4,
     "metadata": {},
     "output_type": "execute_result"
    },
    {
     "data": {
      "image/png": "[encoded data removed]",
      "text/plain": [
       "<Figure size 432x288 with 1 Axes>"
      ]
     },
     "metadata": {},
     "output_type": "display_data"
    }
   ],
   "source": [
    "data.target.value_counts().plot.pie(autopct='%1.1f%%',shadow=True,explode=[0.005,0.05],cmap='Blues')\n"
   ]
  },
  {
   "cell_type": "code",
   "execution_count": 6,
   "metadata": {
    "uuid": "fd6cf8eb-dbf8-416c-b0d4-9c1235f1213a"
   },
   "outputs": [
    {
     "data": {
      "image/png": "[encoded data removed]",
      "text/plain": [
       "<Figure size 720x432 with 1 Axes>"
      ]
     },
     "metadata": {
      "needs_background": "light"
     },
     "output_type": "display_data"
    }
   ],
   "source": [
    "import seaborn as sns\n",
    "f, ax = plt.subplots(figsize=(10,6))\n",
    "x = data['thalach']\n",
    "ax = sns.distplot(x, bins=10)\n",
    "plt.show()\n",
    "#thalach variable is slightly negatively skewed."
   ]
  },
  {
   "cell_type": "code",
   "execution_count": 7,
   "metadata": {
    "uuid": "efdb59bd-1b99-42ba-bf8f-b40b507fa4c1"
   },
   "outputs": [
    {
     "data": {
      "image/png": "[encoded data removed]",
      "text/plain": [
       "<Figure size 432x288 with 1 Axes>"
      ]
     },
     "metadata": {},
     "output_type": "display_data"
    }
   ],
   "source": [
    "young_ages=data[(data.age>=29)&(data.age<40)]\n",
    "middle_ages=data[(data.age>=40)&(data.age<55)]\n",
    "elderly_ages=data[(data.age>55)]\n",
    "#print('Young Ages :',len(young_ages))\n",
    "#print('Middle Ages :',len(middle_ages))\n",
    "#print('Elderly Ages :',len(elderly_ages))\n",
    "plt.pie([len(young_ages),len(middle_ages),len(elderly_ages)],labels=['young ages','middle ages','elderly ages'], autopct='%1.1f%%')\n",
    "plt.title('Age Stats')\n",
    "plt.show()\n"
   ]
  },
  {
   "cell_type": "code",
   "execution_count": 8,
   "metadata": {
    "uuid": "e91ca883-6c69-4a9e-951a-d0c36d41525e"
   },
   "outputs": [
    {
     "data": {
      "text/plain": [
       "Text(0.5, 1.0, 'People According to Chestpain Type')"
      ]
     },
     "execution_count": 8,
     "metadata": {},
     "output_type": "execute_result"
    },
    {
     "data": {
      "image/png": "[encoded data removed]",
      "text/plain": [
       "<Figure size 504x504 with 1 Axes>"
      ]
     },
     "metadata": {},
     "output_type": "display_data"
    }
   ],
   "source": [
    "labels = data.cp.value_counts().index\n",
    "colors = ['green','yellow','orange','red']\n",
    "sizes = data.cp.value_counts().values\n",
    "plt.figure(0,figsize = (7,7))\n",
    "plt.pie(sizes,labels=labels, colors=colors, autopct='%1.1f%%')\n",
    "plt.title('People According to Chestpain Type',color = 'blue',fontsize = 15)"
   ]
  },
  {
   "cell_type": "markdown",
   "metadata": {
    "uuid": "76805b00-72f5-47a2-a198-1cccc7f18dd3"
   },
   "source": [
    "## PREDICTION USING NEURAL NETWORK"
   ]
  },
  {
   "cell_type": "code",
   "execution_count": 7,
   "metadata": {
    "uuid": "05d5afec-b20c-49bb-8d18-00036205aff1"
   },
   "outputs": [
    {
     "name": "stdout",
     "output_type": "stream",
     "text": [
      "Train Features Size: (242, 13)\n",
      "Test Features Size: (61, 13)\n",
      "Train Labels Size: (242,)\n",
      "Test Labels Size: (61,)\n"
     ]
    }
   ],
   "source": [
    "# Separate them to [X, Y]. Where our target labels are 'Y', and 'X' stores our independent features\n",
    "Y = data.target.values\n",
    "X = data.drop(['target'], axis=1)\n",
    "\n",
    "# Now split to train/test with 80% training data, and 20% test data.\n",
    "X_train, X_test, Y_train, Y_test = train_test_split(X, Y, test_size=0.2, random_state=42)\n",
    "\n",
    "# Check dimensions of both sets.\n",
    "print(\"Train Features Size:\", X_train.shape)\n",
    "print(\"Test Features Size:\", X_test.shape)\n",
    "print(\"Train Labels Size:\", Y_train.shape)\n",
    "print(\"Test Labels Size:\", Y_test.shape)"
   ]
  },
  {
   "cell_type": "code",
   "execution_count": 8,
   "metadata": {
    "uuid": "2a487253-a6e3-4612-9311-4296b3e9ef02"
   },
   "outputs": [],
   "source": [
    "# Define a Neural Network Model\n",
    "def NN_model(learning_rate):\n",
    "    model = Sequential()\n",
    "    model.add(Dense(32, input_dim=13, kernel_initializer='normal', activation='relu'))\n",
    "    model.add(Dense(16, kernel_initializer='normal', activation='relu'))\n",
    "    model.add(Dense(2, activation='softmax'))\n",
    "    Adam(lr=learning_rate)\n",
    "    model.compile(loss='sparse_categorical_crossentropy', optimizer='Adam', metrics=['accuracy'])\n",
    "    return model"
   ]
  },
  {
   "cell_type": "code",
   "execution_count": 9,
   "metadata": {
    "uuid": "144e0a66-bc1d-4aae-b32c-68ede4ef3d4d"
   },
   "outputs": [
    {
     "name": "stdout",
     "output_type": "stream",
     "text": [
      "Model: \"sequential\"\n",
      "_________________________________________________________________\n",
      "Layer (type)                 Output Shape              Param #   \n",
      "=================================================================\n",
      "dense (Dense)                (None, 32)                448       \n",
      "_________________________________________________________________\n",
      "dense_1 (Dense)              (None, 16)                528       \n",
      "_________________________________________________________________\n",
      "dense_2 (Dense)              (None, 2)                 34        \n",
      "=================================================================\n",
      "Total params: 1,010\n",
      "Trainable params: 1,010\n",
      "Non-trainable params: 0\n",
      "_________________________________________________________________\n",
      "None\n"
     ]
    }
   ],
   "source": [
    "# Build a NN-model, and start training\n",
    "learning_rate = 0.01\n",
    "model = NN_model(learning_rate)\n",
    "print(model.summary())"
   ]
  },
  {
   "cell_type": "code",
   "execution_count": 10,
   "metadata": {
    "uuid": "261da8ab-3393-4630-a56d-f98c9605111c"
   },
   "outputs": [
    {
     "name": "stdout",
     "output_type": "stream",
     "text": [
      "Epoch 1/100\n",
      "WARNING:tensorflow:Callbacks method `on_test_batch_begin` is slow compared to the batch time (batch time: 0.0000s vs `on_test_batch_begin` time: 0.0010s). Check your callbacks.\n",
      "WARNING:tensorflow:Callbacks method `on_test_batch_end` is slow compared to the batch time (batch time: 0.0000s vs `on_test_batch_end` time: 0.0010s). Check your callbacks.\n",
      "16/16 - 1s - loss: 0.8134 - accuracy: 0.5620 - val_loss: 0.6624 - val_accuracy: 0.5246\n",
      "Epoch 2/100\n",
      "16/16 - 0s - loss: 0.6777 - accuracy: 0.6198 - val_loss: 0.6297 - val_accuracy: 0.6393\n",
      "Epoch 3/100\n",
      "16/16 - 0s - loss: 0.6709 - accuracy: 0.5950 - val_loss: 0.6066 - val_accuracy: 0.7705\n",
      "Epoch 4/100\n",
      "16/16 - 0s - loss: 0.6402 - accuracy: 0.6570 - val_loss: 0.6025 - val_accuracy: 0.6393\n",
      "Epoch 5/100\n",
      "16/16 - 0s - loss: 0.6497 - accuracy: 0.5992 - val_loss: 0.5896 - val_accuracy: 0.7377\n",
      "Epoch 6/100\n",
      "16/16 - 0s - loss: 0.6398 - accuracy: 0.6281 - val_loss: 0.5319 - val_accuracy: 0.8197\n",
      "Epoch 7/100\n",
      "16/16 - 0s - loss: 0.6060 - accuracy: 0.6612 - val_loss: 0.5362 - val_accuracy: 0.7705\n",
      "Epoch 8/100\n",
      "16/16 - 0s - loss: 0.6049 - accuracy: 0.6653 - val_loss: 0.5665 - val_accuracy: 0.7213\n",
      "Epoch 9/100\n",
      "16/16 - 0s - loss: 0.5970 - accuracy: 0.7190 - val_loss: 0.5176 - val_accuracy: 0.7541\n",
      "Epoch 10/100\n",
      "16/16 - 0s - loss: 0.5818 - accuracy: 0.6901 - val_loss: 0.4912 - val_accuracy: 0.8525\n",
      "Epoch 11/100\n",
      "16/16 - 0s - loss: 0.5804 - accuracy: 0.7190 - val_loss: 0.4938 - val_accuracy: 0.8197\n",
      "Epoch 12/100\n",
      "16/16 - 0s - loss: 0.5785 - accuracy: 0.6901 - val_loss: 0.4829 - val_accuracy: 0.8197\n",
      "Epoch 13/100\n",
      "16/16 - 0s - loss: 0.5898 - accuracy: 0.6694 - val_loss: 0.5061 - val_accuracy: 0.7541\n",
      "Epoch 14/100\n",
      "16/16 - 0s - loss: 0.5788 - accuracy: 0.6653 - val_loss: 0.4685 - val_accuracy: 0.8033\n",
      "Epoch 15/100\n",
      "16/16 - 0s - loss: 0.5592 - accuracy: 0.7025 - val_loss: 0.4542 - val_accuracy: 0.8525\n",
      "Epoch 16/100\n",
      "16/16 - 0s - loss: 0.5443 - accuracy: 0.7066 - val_loss: 0.4506 - val_accuracy: 0.8525\n",
      "Epoch 17/100\n",
      "16/16 - 0s - loss: 0.5371 - accuracy: 0.7149 - val_loss: 0.4385 - val_accuracy: 0.8525\n",
      "Epoch 18/100\n",
      "16/16 - 0s - loss: 0.5363 - accuracy: 0.7562 - val_loss: 0.4590 - val_accuracy: 0.7869\n",
      "Epoch 19/100\n",
      "16/16 - 0s - loss: 0.5270 - accuracy: 0.7107 - val_loss: 0.5096 - val_accuracy: 0.7541\n",
      "Epoch 20/100\n",
      "16/16 - 0s - loss: 0.5507 - accuracy: 0.7314 - val_loss: 0.4532 - val_accuracy: 0.7869\n",
      "Epoch 21/100\n",
      "16/16 - 0s - loss: 0.5188 - accuracy: 0.7314 - val_loss: 0.4289 - val_accuracy: 0.8689\n",
      "Epoch 22/100\n",
      "16/16 - 0s - loss: 0.5064 - accuracy: 0.7355 - val_loss: 0.4174 - val_accuracy: 0.8525\n",
      "Epoch 23/100\n",
      "16/16 - 0s - loss: 0.5145 - accuracy: 0.7314 - val_loss: 0.4258 - val_accuracy: 0.8525\n",
      "Epoch 24/100\n",
      "16/16 - 0s - loss: 0.4980 - accuracy: 0.7645 - val_loss: 0.4148 - val_accuracy: 0.8689\n",
      "Epoch 25/100\n",
      "16/16 - 0s - loss: 0.4837 - accuracy: 0.7562 - val_loss: 0.4354 - val_accuracy: 0.7705\n",
      "Epoch 26/100\n",
      "16/16 - 0s - loss: 0.4864 - accuracy: 0.7603 - val_loss: 0.3945 - val_accuracy: 0.8689\n",
      "Epoch 27/100\n",
      "16/16 - 0s - loss: 0.4771 - accuracy: 0.7562 - val_loss: 0.3845 - val_accuracy: 0.8525\n",
      "Epoch 28/100\n",
      "16/16 - 0s - loss: 0.4855 - accuracy: 0.7562 - val_loss: 0.3794 - val_accuracy: 0.8525\n",
      "Epoch 29/100\n",
      "16/16 - 0s - loss: 0.4927 - accuracy: 0.7562 - val_loss: 0.3779 - val_accuracy: 0.8689\n",
      "Epoch 30/100\n",
      "16/16 - 0s - loss: 0.4686 - accuracy: 0.7438 - val_loss: 0.3818 - val_accuracy: 0.8525\n",
      "Epoch 31/100\n",
      "16/16 - 0s - loss: 0.4939 - accuracy: 0.7479 - val_loss: 0.3766 - val_accuracy: 0.8361\n",
      "Epoch 32/100\n",
      "16/16 - 0s - loss: 0.4631 - accuracy: 0.7893 - val_loss: 0.3747 - val_accuracy: 0.8525\n",
      "Epoch 33/100\n",
      "16/16 - 0s - loss: 0.5104 - accuracy: 0.7273 - val_loss: 0.3885 - val_accuracy: 0.8525\n",
      "Epoch 34/100\n",
      "16/16 - 0s - loss: 0.4482 - accuracy: 0.7810 - val_loss: 0.4152 - val_accuracy: 0.8033\n",
      "Epoch 35/100\n",
      "16/16 - 0s - loss: 0.4607 - accuracy: 0.7851 - val_loss: 0.3777 - val_accuracy: 0.8361\n",
      "Epoch 36/100\n",
      "16/16 - 0s - loss: 0.4525 - accuracy: 0.7934 - val_loss: 0.3585 - val_accuracy: 0.8525\n",
      "Epoch 37/100\n",
      "16/16 - 0s - loss: 0.4967 - accuracy: 0.7231 - val_loss: 0.3576 - val_accuracy: 0.8525\n",
      "Epoch 38/100\n",
      "16/16 - 0s - loss: 0.4518 - accuracy: 0.7893 - val_loss: 0.3797 - val_accuracy: 0.8525\n",
      "Epoch 39/100\n",
      "16/16 - 0s - loss: 0.4301 - accuracy: 0.8058 - val_loss: 0.3487 - val_accuracy: 0.8525\n",
      "Epoch 40/100\n",
      "16/16 - 0s - loss: 0.4419 - accuracy: 0.8017 - val_loss: 0.3449 - val_accuracy: 0.8525\n",
      "Epoch 41/100\n",
      "16/16 - 0s - loss: 0.4309 - accuracy: 0.7934 - val_loss: 0.3845 - val_accuracy: 0.8361\n",
      "Epoch 42/100\n",
      "16/16 - 0s - loss: 0.4662 - accuracy: 0.7810 - val_loss: 0.3428 - val_accuracy: 0.8525\n",
      "Epoch 43/100\n",
      "16/16 - 0s - loss: 0.4246 - accuracy: 0.7934 - val_loss: 0.4447 - val_accuracy: 0.8033\n",
      "Epoch 44/100\n",
      "16/16 - 0s - loss: 0.4359 - accuracy: 0.7893 - val_loss: 0.3421 - val_accuracy: 0.8525\n",
      "Epoch 45/100\n",
      "16/16 - 0s - loss: 0.4251 - accuracy: 0.8017 - val_loss: 0.3438 - val_accuracy: 0.8689\n",
      "Epoch 46/100\n",
      "16/16 - 0s - loss: 0.4164 - accuracy: 0.8182 - val_loss: 0.3418 - val_accuracy: 0.8689\n",
      "Epoch 47/100\n",
      "16/16 - 0s - loss: 0.4449 - accuracy: 0.7645 - val_loss: 0.3799 - val_accuracy: 0.8361\n",
      "Epoch 48/100\n",
      "16/16 - 0s - loss: 0.5691 - accuracy: 0.6818 - val_loss: 0.3530 - val_accuracy: 0.8689\n",
      "Epoch 49/100\n",
      "16/16 - 0s - loss: 0.4783 - accuracy: 0.7810 - val_loss: 0.4295 - val_accuracy: 0.8689\n",
      "Epoch 50/100\n",
      "16/16 - 0s - loss: 0.4792 - accuracy: 0.7727 - val_loss: 0.3562 - val_accuracy: 0.8689\n",
      "Epoch 51/100\n",
      "16/16 - 0s - loss: 0.4041 - accuracy: 0.8264 - val_loss: 0.4024 - val_accuracy: 0.8197\n",
      "Epoch 52/100\n",
      "16/16 - 0s - loss: 0.4020 - accuracy: 0.8430 - val_loss: 0.3766 - val_accuracy: 0.8361\n",
      "Epoch 53/100\n",
      "16/16 - 0s - loss: 0.4065 - accuracy: 0.8264 - val_loss: 0.3393 - val_accuracy: 0.8689\n",
      "Epoch 54/100\n",
      "16/16 - 0s - loss: 0.4032 - accuracy: 0.8306 - val_loss: 0.3865 - val_accuracy: 0.8361\n",
      "Epoch 55/100\n",
      "16/16 - 0s - loss: 0.3935 - accuracy: 0.8347 - val_loss: 0.3625 - val_accuracy: 0.8525\n",
      "Epoch 56/100\n",
      "16/16 - 0s - loss: 0.3925 - accuracy: 0.8223 - val_loss: 0.3986 - val_accuracy: 0.8197\n",
      "Epoch 57/100\n",
      "16/16 - 0s - loss: 0.4088 - accuracy: 0.8058 - val_loss: 0.3494 - val_accuracy: 0.8525\n",
      "Epoch 58/100\n",
      "16/16 - 0s - loss: 0.4136 - accuracy: 0.7893 - val_loss: 0.3410 - val_accuracy: 0.8852\n",
      "Epoch 59/100\n",
      "16/16 - 0s - loss: 0.4073 - accuracy: 0.8264 - val_loss: 0.3378 - val_accuracy: 0.8689\n",
      "Epoch 60/100\n",
      "16/16 - 0s - loss: 0.3889 - accuracy: 0.8264 - val_loss: 0.3368 - val_accuracy: 0.8689\n",
      "Epoch 61/100\n",
      "16/16 - 0s - loss: 0.3818 - accuracy: 0.8388 - val_loss: 0.4294 - val_accuracy: 0.8197\n",
      "Epoch 62/100\n",
      "16/16 - 0s - loss: 0.3774 - accuracy: 0.8430 - val_loss: 0.3381 - val_accuracy: 0.8689\n",
      "Epoch 63/100\n",
      "16/16 - 0s - loss: 0.4207 - accuracy: 0.8017 - val_loss: 0.3798 - val_accuracy: 0.8689\n",
      "Epoch 64/100\n",
      "16/16 - 0s - loss: 0.4619 - accuracy: 0.7893 - val_loss: 0.3537 - val_accuracy: 0.8689\n",
      "Epoch 65/100\n",
      "16/16 - 0s - loss: 0.4117 - accuracy: 0.8140 - val_loss: 0.3370 - val_accuracy: 0.8852\n",
      "Epoch 66/100\n",
      "16/16 - 0s - loss: 0.3998 - accuracy: 0.8306 - val_loss: 0.3386 - val_accuracy: 0.8689\n",
      "Epoch 67/100\n",
      "16/16 - 0s - loss: 0.4082 - accuracy: 0.8140 - val_loss: 0.3396 - val_accuracy: 0.8689\n",
      "Epoch 68/100\n",
      "16/16 - 0s - loss: 0.3895 - accuracy: 0.8223 - val_loss: 0.3422 - val_accuracy: 0.8852\n",
      "Epoch 69/100\n",
      "16/16 - 0s - loss: 0.3853 - accuracy: 0.8223 - val_loss: 0.3570 - val_accuracy: 0.8689\n",
      "Epoch 70/100\n",
      "16/16 - 0s - loss: 0.4178 - accuracy: 0.8140 - val_loss: 0.4140 - val_accuracy: 0.8197\n",
      "Epoch 71/100\n",
      "16/16 - 0s - loss: 0.3947 - accuracy: 0.8223 - val_loss: 0.3824 - val_accuracy: 0.8525\n",
      "Epoch 72/100\n",
      "16/16 - 0s - loss: 0.4903 - accuracy: 0.7769 - val_loss: 0.3717 - val_accuracy: 0.8689\n",
      "Epoch 73/100\n",
      "16/16 - 0s - loss: 0.4275 - accuracy: 0.8017 - val_loss: 0.3547 - val_accuracy: 0.8689\n",
      "Epoch 74/100\n",
      "16/16 - 0s - loss: 0.4155 - accuracy: 0.8306 - val_loss: 0.3391 - val_accuracy: 0.8852\n",
      "Epoch 75/100\n",
      "16/16 - 0s - loss: 0.3895 - accuracy: 0.8264 - val_loss: 0.3401 - val_accuracy: 0.8689\n",
      "Epoch 76/100\n",
      "16/16 - 0s - loss: 0.4152 - accuracy: 0.8306 - val_loss: 0.4594 - val_accuracy: 0.7705\n",
      "Epoch 77/100\n",
      "16/16 - 0s - loss: 0.3890 - accuracy: 0.8099 - val_loss: 0.3376 - val_accuracy: 0.8689\n",
      "Epoch 78/100\n",
      "16/16 - 0s - loss: 0.3807 - accuracy: 0.8388 - val_loss: 0.3450 - val_accuracy: 0.8852\n",
      "Epoch 79/100\n",
      "16/16 - 0s - loss: 0.3882 - accuracy: 0.8182 - val_loss: 0.3405 - val_accuracy: 0.8852\n",
      "Epoch 80/100\n",
      "16/16 - 0s - loss: 0.3930 - accuracy: 0.8140 - val_loss: 0.3564 - val_accuracy: 0.8689\n",
      "Epoch 81/100\n",
      "16/16 - 0s - loss: 0.4034 - accuracy: 0.8347 - val_loss: 0.3495 - val_accuracy: 0.8852\n",
      "Epoch 82/100\n",
      "16/16 - 0s - loss: 0.4345 - accuracy: 0.7893 - val_loss: 0.3635 - val_accuracy: 0.8689\n",
      "Epoch 83/100\n",
      "16/16 - 0s - loss: 0.3867 - accuracy: 0.8140 - val_loss: 0.3636 - val_accuracy: 0.8689\n",
      "Epoch 84/100\n",
      "16/16 - 0s - loss: 0.4348 - accuracy: 0.7975 - val_loss: 0.3454 - val_accuracy: 0.8689\n",
      "Epoch 85/100\n",
      "16/16 - 0s - loss: 0.3978 - accuracy: 0.8182 - val_loss: 0.3419 - val_accuracy: 0.8689\n",
      "Epoch 86/100\n",
      "16/16 - 0s - loss: 0.3786 - accuracy: 0.8223 - val_loss: 0.3449 - val_accuracy: 0.8689\n",
      "Epoch 87/100\n",
      "16/16 - 0s - loss: 0.4855 - accuracy: 0.7521 - val_loss: 0.3676 - val_accuracy: 0.8689\n",
      "Epoch 88/100\n",
      "16/16 - 0s - loss: 0.4600 - accuracy: 0.7727 - val_loss: 0.3691 - val_accuracy: 0.8689\n",
      "Epoch 89/100\n",
      "16/16 - 0s - loss: 0.4444 - accuracy: 0.8017 - val_loss: 0.4952 - val_accuracy: 0.7541\n",
      "Epoch 90/100\n",
      "16/16 - 0s - loss: 0.3891 - accuracy: 0.8388 - val_loss: 0.3831 - val_accuracy: 0.8852\n",
      "Epoch 91/100\n",
      "16/16 - 0s - loss: 0.4095 - accuracy: 0.8140 - val_loss: 0.4064 - val_accuracy: 0.8361\n",
      "Epoch 92/100\n",
      "16/16 - 0s - loss: 0.4120 - accuracy: 0.8223 - val_loss: 0.3615 - val_accuracy: 0.8689\n",
      "Epoch 93/100\n",
      "16/16 - 0s - loss: 0.4060 - accuracy: 0.8017 - val_loss: 0.3444 - val_accuracy: 0.8689\n",
      "Epoch 94/100\n",
      "16/16 - 0s - loss: 0.3737 - accuracy: 0.8182 - val_loss: 0.3851 - val_accuracy: 0.8852\n",
      "Epoch 95/100\n",
      "16/16 - 0s - loss: 0.3797 - accuracy: 0.8471 - val_loss: 0.3472 - val_accuracy: 0.8852\n",
      "Epoch 96/100\n",
      "16/16 - 0s - loss: 0.3847 - accuracy: 0.8264 - val_loss: 0.3474 - val_accuracy: 0.8852\n",
      "Epoch 97/100\n",
      "16/16 - 0s - loss: 0.3706 - accuracy: 0.8430 - val_loss: 0.4670 - val_accuracy: 0.7705\n",
      "Epoch 98/100\n",
      "16/16 - 0s - loss: 0.4759 - accuracy: 0.7810 - val_loss: 0.4284 - val_accuracy: 0.7869\n",
      "Epoch 99/100\n",
      "16/16 - 0s - loss: 0.4195 - accuracy: 0.8058 - val_loss: 0.3428 - val_accuracy: 0.8852\n",
      "Epoch 100/100\n",
      "16/16 - 0s - loss: 0.3795 - accuracy: 0.8264 - val_loss: 0.3772 - val_accuracy: 0.8689\n"
     ]
    }
   ],
   "source": [
    "history = model.fit(X_train, Y_train, validation_data=(X_test, Y_test), epochs=100, batch_size=16, verbose=2)"
   ]
  },
  {
   "cell_type": "markdown",
   "metadata": {
    "uuid": "fa5f0121-0bfa-4e45-857e-a68617970546"
   },
   "source": [
    "**We plot the Model Accuracy, and Model Loss vs. the number of Epochs.**"
   ]
  },
  {
   "cell_type": "code",
   "execution_count": 14,
   "metadata": {
    "uuid": "284a615c-ba38-4134-91ad-37f41d899cb1"
   },
   "outputs": [
    {
     "data": {
      "image/png": "[encoded data removed]",
      "text/plain": [
       "<Figure size 432x288 with 1 Axes>"
      ]
     },
     "metadata": {
      "needs_background": "light"
     },
     "output_type": "display_data"
    },
    {
     "data": {
      "image/png": "[encoded data removed]",
      "text/plain": [
       "<Figure size 432x288 with 1 Axes>"
      ]
     },
     "metadata": {
      "needs_background": "light"
     },
     "output_type": "display_data"
    }
   ],
   "source": [
    "plt.plot(history.history['accuracy'])\n",
    "plt.plot(history.history['val_accuracy'])\n",
    "plt.title('Model Accuracy')\n",
    "plt.ylabel('Accuracy')\n",
    "plt.xlabel('Epochs')\n",
    "plt.legend(['Train', 'Test'])\n",
    "plt.show()\n",
    "\n",
    "# Plot the Loss function vs. number of Epochs\n",
    "plt.plot(history.history['loss'])\n",
    "plt.plot(history.history['val_loss'])\n",
    "plt.title('Model Loss')\n",
    "plt.ylabel('Loss')\n",
    "plt.xlabel('Epochs')\n",
    "plt.legend(['Train', 'Test'])\n",
    "plt.show()"
   ]
  },
  {
   "cell_type": "markdown",
   "metadata": {
    "uuid": "09e89f85-3d6a-48e1-81a1-12709b5c916a"
   },
   "source": [
    "**PREDICTION**"
   ]
  },
  {
   "cell_type": "code",
   "execution_count": 12,
   "metadata": {
    "scrolled": true,
    "uuid": "e52becc6-6c06-40bf-8d7c-b2de9d5a43ce"
   },
   "outputs": [
    {
     "name": "stdout",
     "output_type": "stream",
     "text": [
      "Model Accracy: 86.88524590163934 %\n",
      "              precision    recall  f1-score   support\n",
      "\n",
      "           0       0.86      0.86      0.86        29\n",
      "           1       0.88      0.88      0.88        32\n",
      "\n",
      "   micro avg       0.87      0.87      0.87        61\n",
      "   macro avg       0.87      0.87      0.87        61\n",
      "weighted avg       0.87      0.87      0.87        61\n",
      "\n"
     ]
    }
   ],
   "source": [
    "predictions = np.argmax(model.predict(X_test), axis=1)\n",
    "model_accuracy = accuracy_score(Y_test, predictions)*100\n",
    "print(\"Model Accracy:\", model_accuracy,\"%\")\n",
    "print(classification_report(Y_test, predictions))"
   ]
  },
  {
   "cell_type": "markdown",
   "metadata": {
    "uuid": "6ebff173-f101-403a-ad2f-84c1469901c5"
   },
   "source": [
    "> **Accuracy of neural network model is 86.8%**"
   ]
  },
  {
   "cell_type": "markdown",
   "metadata": {
    "uuid": "bfd43fbf-4c06-44e8-92c6-a69f843e82a2"
   },
   "source": [
    "## HOSPITAL RECOMMENDATION SYSTEM"
   ]
  },
  {
   "cell_type": "markdown",
   "metadata": {
    "uuid": "fdc64b5d-1172-4992-8a5b-3d7c0999f49a"
   },
   "source": [
    "#### The recommendation system will work as follow:\n",
    "#### If a person is suffering from Cardiac disease and need a treatment, our system will help them to suggest the best hospital for there treatment in the preferred state."
   ]
  },
  {
   "cell_type": "code",
   "execution_count": 1,
   "metadata": {
    "uuid": "0e51a113-269c-4031-84bb-c21b640531c1"
   },
   "outputs": [],
   "source": [
    "from tkinter import *\n",
    "\n",
    "class hospital:\n",
    "    \n",
    "    def __init__(self, state, hpname, hpcontact):\n",
    "        self.state = state\n",
    "        self.hpname = hpname\n",
    "        self.hpcontact = hpcontact\n",
    "        hospitalList.append(self)\n",
    "        hospitalNames.append(state)\n",
    "        hospitalContact.append(state)\n",
    "        \n",
    "        \n",
    "def getData():\n",
    "    for s in hospitalList:\n",
    "        if s.state == selectedState.get():\n",
    "            hpname.set(s.hpname) \n",
    "            hpcontact.set(s.hpcontact)\n",
    "\n",
    "        \n",
    "#create root object\n",
    "mainWindow=Tk()\n",
    "mainWindow.title(\"Hospital Recommendation System\")\n",
    "\n",
    "mainWindow.resizable(width=FALSE, height=FALSE)\n",
    "#label1=Label(mainWindow,text = \"Hospital Recommendation System\", relief= \"solid\", width=40,font=(\"arial\",15,\"bold\"))\n",
    "mainWindow.geometry('500x400')\n",
    "#label1.place(x=100 , y=100)\n",
    "hospitalList = []\n",
    "hospitalNames = []\n",
    "hospitalContact =[]\n",
    "\n",
    "hospital(\"Select the state for treatment\", \"\", 11)\n",
    "hospital(\"Andhra Pradesh\", \"Amrutha Heart Hospital\", 7382299540)\n",
    "hospital(\"Arunachal Pradesh\",\"BLK Hospital\", 9859954467)\n",
    "hospital(\"Assam\",\"SAAOL Heart Center, Guwahati\",9859993307)\n",
    "hospital(\"Bihar\",\"Dr. Rajiv Krishna Heart Clinic Patna\",9334242298)\n",
    "hospital(\"Chhattisgarh\",\"Ramkrishna Care hospital\",771-6165656)\n",
    "hospital(\"Delhi\",\"Indraprastha Apollo Hospital\",1126825580)\n",
    "hospital(\"Goa\",\"Manipal Hospitals Goa\",18001025555)\n",
    "hospital(\"Gujarat\",\"Sri Sathya Sai Heart Hospital\",2812573588)\n",
    "hospital(\"Haryana\",\"Medanta Heart Institute\",1244141414)\n",
    "hospital(\"Himachal Pradesh\",\"APEX diagnostics\",918894781112)\n",
    "hospital(\"Jammu and Kashmir\",\"Sudan Heart Care Centre\", 1912262296)\n",
    "hospital(\"Jharkhand\",\"GEL Church Complex, Medical Centre\",651233867)\n",
    "hospital(\"Karnataka\",\"Manipal Hospital\",18001025555)\n",
    "hospital(\"Kerala\",\"Metromed International Cardiac Centre\",4956615555)\n",
    "hospital(\"Madhya Pradesh\",\"Manoria Care\",755424999)\n",
    "hospital(\"Maharashtra\",\"Nanavati Hospital\",2226267500)\n",
    "hospital(\"Manipur\",\"Sky Hospital & Research Centre\",8415938207)\n",
    "hospital(\"Meghalaya\",\"Nazareth Hospital\",364221188)\n",
    "hospital(\"Mizoram\",\"Civil Hospital, Aizawl\", 3892322318)\n",
    "hospital(\"Nagaland\",\"Zion Hospital\",3862224117)\n",
    "hospital(\"Orissa\",\"HeartMate Institute\",9040283301)\n",
    "hospital(\"Punjab\",\"Grecian Hospital\",9592141409)\n",
    "hospital(\"Rajasthan\",\"Sanganer: Sparsh Hospital\",7073554888)\n",
    "hospital(\"Sikkim\",\"STNM Hospital\",9845562399)\n",
    "hospital(\"Tamil Nadu\",\"anandham heart care clinic\",9443999783)\n",
    "hospital(\"Telangana\",\"MaxCure Hospital\",404853330)\n",
    "hospital(\"Tripura\",\"ILS Hospitals, Agartala\",8974050300)\n",
    "hospital(\"Uttaranchal\",\"Max Hospital\",1357193000)\n",
    "hospital(\"Uttar Pradesh\",\"Pushpanjali Institute of Cardiac Sciences\",8954893927)\n",
    "hospital(\"West Bengal\",\"Fortis Hospital\",3366284444)\n",
    "\n",
    "\n",
    "selectedState = StringVar()\n",
    "selectedState.set(hospitalNames[0])\n",
    "\n",
    "#state menu\n",
    "hospitalMenu = OptionMenu(mainWindow,selectedState, *hospitalNames)\n",
    "hospitalMenu.pack()\n",
    "\n",
    "#select button\n",
    "selectbtn= Button(mainWindow, text=\"Click here to get details\", command=getData)\n",
    "selectbtn.pack()\n",
    "\n",
    "hpname = StringVar()\n",
    "#label\n",
    "hpLabel = Label(mainWindow,textvariable=hpname)\n",
    "hpLabel.pack()\n",
    "\n",
    "hpcontact = IntVar()\n",
    "#label\n",
    "hpLabel2 = Label(mainWindow,textvariable=hpcontact)\n",
    "hpLabel2.pack()\n",
    "mainWindow.mainloop()"
   ]
  },
  {
   "cell_type": "code",
   "execution_count": null,
   "metadata": {
    "uuid": "480626b9-ed2c-483e-a6cb-768422d36077"
   },
   "outputs": [],
   "source": []
  }
 ],
 "metadata": {
  "kernelspec": {
   "display_name": "Python 3",
   "language": "python",
   "name": "python3"
  },
  "language_info": {
   "codemirror_mode": {
    "name": "ipython",
    "version": 3
   },
   "file_extension": ".py",
   "mimetype": "text/x-python",
   "name": "python",
   "nbconvert_exporter": "python",
   "pygments_lexer": "ipython3",
   "version": "3.7.3"
  }
 },
 "nbformat": 4,
 "nbformat_minor": 2
}
